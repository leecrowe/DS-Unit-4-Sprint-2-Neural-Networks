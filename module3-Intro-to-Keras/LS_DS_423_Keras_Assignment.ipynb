{
 "cells": [
  {
   "cell_type": "markdown",
   "metadata": {
    "colab_type": "text",
    "id": "pBQsZEJmubLs"
   },
   "source": [
    "<img align=\"left\" src=\"https://lever-client-logos.s3.amazonaws.com/864372b1-534c-480e-acd5-9711f850815c-1524247202159.png\" width=200>\n",
    "<br></br>\n",
    "\n",
    "# Neural Network Framework (Keras)\n",
    "\n",
    "## *Data Science Unit 4 Sprint 2 Assignment 3*\n",
    "\n",
    "## Use the Keras Library to build a Multi-Layer Perceptron Model on the Boston Housing dataset\n",
    "\n",
    "- The Boston Housing dataset comes with the Keras library so use Keras to import it into your notebook. \n",
    "- Normalize the data (all features should have roughly the same scale)\n",
    "- Import the type of model and layers that you will need from Keras.\n",
    "- Instantiate a model object and use `model.add()` to add layers to your model\n",
    "- Since this is a regression model you will have a single output node in the final layer.\n",
    "- Use activation functions that are appropriate for this task\n",
    "- Compile your model\n",
    "- Fit your model and report its accuracy in terms of Mean Squared Error\n",
    "- Use the history object that is returned from model.fit to make graphs of the model's loss or train/validation accuracies by epoch. \n",
    "- Run this same data through a linear regression model. Which achieves higher accuracy?\n",
    "- Do a little bit of feature engineering and see how that affects your neural network model. (you will need to change your model to accept more inputs)\n",
    "- After feature engineering, which model sees a greater accuracy boost due to the new features?"
   ]
  },
  {
   "cell_type": "markdown",
   "metadata": {},
   "source": [
    "## Keras"
   ]
  },
  {
   "cell_type": "code",
   "execution_count": 2,
   "metadata": {
    "colab": {},
    "colab_type": "code",
    "id": "8NLTAR87uYJ-"
   },
   "outputs": [],
   "source": [
    "##### Your Code Here #####\n",
    "from tensorflow import keras\n",
    "from tensorflow.keras.datasets import boston_housing\n",
    "from tensorflow.keras.models import Sequential\n",
    "from tensorflow.keras.layers import Dense, Dropout\n",
    "\n",
    "import numpy as np\n",
    "import pandas as pd"
   ]
  },
  {
   "cell_type": "code",
   "execution_count": 3,
   "metadata": {},
   "outputs": [
    {
     "name": "stdout",
     "output_type": "stream",
     "text": [
      "Downloading data from https://storage.googleapis.com/tensorflow/tf-keras-datasets/boston_housing.npz\n",
      "57344/57026 [==============================] - 0s 1us/step\n"
     ]
    }
   ],
   "source": [
    "# Get the data\n",
    "(x_train, y_train), (x_test, y_test) = boston_housing.load_data()"
   ]
  },
  {
   "cell_type": "code",
   "execution_count": 4,
   "metadata": {},
   "outputs": [
    {
     "data": {
      "text/plain": [
       "((404, 13), (404,), (102, 13), (102,))"
      ]
     },
     "execution_count": 4,
     "metadata": {},
     "output_type": "execute_result"
    }
   ],
   "source": [
    "x_train.shape, y_train.shape, x_test.shape, y_test.shape"
   ]
  },
  {
   "cell_type": "code",
   "execution_count": 5,
   "metadata": {},
   "outputs": [
    {
     "data": {
      "text/plain": [
       "array([[1.23247e+00, 0.00000e+00, 8.14000e+00, ..., 2.10000e+01,\n",
       "        3.96900e+02, 1.87200e+01],\n",
       "       [2.17700e-02, 8.25000e+01, 2.03000e+00, ..., 1.47000e+01,\n",
       "        3.95380e+02, 3.11000e+00],\n",
       "       [4.89822e+00, 0.00000e+00, 1.81000e+01, ..., 2.02000e+01,\n",
       "        3.75520e+02, 3.26000e+00],\n",
       "       ...,\n",
       "       [3.46600e-02, 3.50000e+01, 6.06000e+00, ..., 1.69000e+01,\n",
       "        3.62250e+02, 7.83000e+00],\n",
       "       [2.14918e+00, 0.00000e+00, 1.95800e+01, ..., 1.47000e+01,\n",
       "        2.61950e+02, 1.57900e+01],\n",
       "       [1.43900e-02, 6.00000e+01, 2.93000e+00, ..., 1.56000e+01,\n",
       "        3.76700e+02, 4.38000e+00]])"
      ]
     },
     "execution_count": 5,
     "metadata": {},
     "output_type": "execute_result"
    }
   ],
   "source": [
    "x_train"
   ]
  },
  {
   "cell_type": "code",
   "execution_count": 6,
   "metadata": {},
   "outputs": [],
   "source": [
    "from tensorflow.keras.utils import normalize"
   ]
  },
  {
   "cell_type": "code",
   "execution_count": 12,
   "metadata": {},
   "outputs": [],
   "source": [
    "x_train_norm = normalize(x_train)\n",
    "x_test_norm = normalize(x_test)"
   ]
  },
  {
   "cell_type": "code",
   "execution_count": 14,
   "metadata": {},
   "outputs": [],
   "source": [
    "%load_ext tensorboard\n",
    "\n",
    "import os\n",
    "import datetime\n",
    "import tensorflow as tf\n",
    "\n",
    "logdir = os.path.join(\"logs\", datetime.datetime.now().strftime(\"%Y%m%d-%H%M%S\"))\n",
    "tensorboard_callback = tf.keras.callbacks.TensorBoard(logdir, histogram_freq=1)"
   ]
  },
  {
   "cell_type": "code",
   "execution_count": 20,
   "metadata": {},
   "outputs": [],
   "source": [
    "from tensorflow.keras.callbacks import EarlyStopping\n",
    "\n",
    "stop = EarlyStopping(monitor='val_mse', min_delta=0.10, patience=5)"
   ]
  },
  {
   "cell_type": "code",
   "execution_count": 13,
   "metadata": {},
   "outputs": [],
   "source": [
    "model = Sequential()"
   ]
  },
  {
   "cell_type": "code",
   "execution_count": 15,
   "metadata": {},
   "outputs": [],
   "source": [
    "model.add(Dense(10, input_dim=13, activation=\"softmax\"))\n",
    "model.add(Dense(50, activation=\"relu\"))\n",
    "model.add(Dense(50, activation=\"relu\"))\n",
    "model.add(Dense(1))"
   ]
  },
  {
   "cell_type": "code",
   "execution_count": 17,
   "metadata": {},
   "outputs": [],
   "source": [
    "model.compile(loss='mse', \n",
    "              optimizer=\"adam\",\n",
    "              metrics=['mae', 'mse'])"
   ]
  },
  {
   "cell_type": "code",
   "execution_count": 29,
   "metadata": {},
   "outputs": [
    {
     "name": "stdout",
     "output_type": "stream",
     "text": [
      "Train on 404 samples, validate on 102 samples\n",
      "Epoch 1/20\n",
      "404/404 [==============================] - 0s 306us/sample - loss: 84.1974 - mae: 6.5984 - mse: 84.1974 - val_loss: 83.4902 - val_mae: 6.5072 - val_mse: 83.4902\n",
      "Epoch 2/20\n",
      "404/404 [==============================] - 0s 118us/sample - loss: 84.2474 - mae: 6.6342 - mse: 84.2474 - val_loss: 83.0098 - val_mae: 6.5235 - val_mse: 83.0098\n",
      "Epoch 3/20\n",
      "404/404 [==============================] - 0s 153us/sample - loss: 83.9869 - mae: 6.6324 - mse: 83.9868 - val_loss: 83.1818 - val_mae: 6.5040 - val_mse: 83.1818\n",
      "Epoch 4/20\n",
      "404/404 [==============================] - 0s 126us/sample - loss: 83.9228 - mae: 6.5983 - mse: 83.9228 - val_loss: 83.0516 - val_mae: 6.5010 - val_mse: 83.0517\n",
      "Epoch 5/20\n",
      "404/404 [==============================] - 0s 99us/sample - loss: 83.8117 - mae: 6.6078 - mse: 83.8117 - val_loss: 82.8622 - val_mae: 6.5007 - val_mse: 82.8622\n",
      "Epoch 6/20\n",
      "404/404 [==============================] - 0s 99us/sample - loss: 83.7960 - mae: 6.5876 - mse: 83.7960 - val_loss: 82.9313 - val_mae: 6.4876 - val_mse: 82.9313\n",
      "Epoch 7/20\n",
      "404/404 [==============================] - 0s 102us/sample - loss: 83.6259 - mae: 6.5955 - mse: 83.6259 - val_loss: 82.6515 - val_mae: 6.4888 - val_mse: 82.6515\n",
      "Epoch 8/20\n",
      "404/404 [==============================] - 0s 108us/sample - loss: 83.4390 - mae: 6.5945 - mse: 83.4390 - val_loss: 82.4870 - val_mae: 6.4842 - val_mse: 82.4870\n",
      "Epoch 9/20\n",
      "404/404 [==============================] - 0s 96us/sample - loss: 83.3042 - mae: 6.5681 - mse: 83.3042 - val_loss: 82.5123 - val_mae: 6.4697 - val_mse: 82.5123\n",
      "Epoch 10/20\n",
      "404/404 [==============================] - 0s 115us/sample - loss: 83.1092 - mae: 6.5614 - mse: 83.1092 - val_loss: 82.1585 - val_mae: 6.4722 - val_mse: 82.1585\n",
      "Epoch 11/20\n",
      "404/404 [==============================] - 0s 90us/sample - loss: 83.0002 - mae: 6.5870 - mse: 83.0002 - val_loss: 81.8721 - val_mae: 6.4696 - val_mse: 81.8721\n",
      "Epoch 12/20\n",
      "404/404 [==============================] - 0s 98us/sample - loss: 82.8417 - mae: 6.5719 - mse: 82.8417 - val_loss: 81.8303 - val_mae: 6.4529 - val_mse: 81.8303\n",
      "Epoch 13/20\n",
      "404/404 [==============================] - 0s 114us/sample - loss: 82.5654 - mae: 6.5465 - mse: 82.5654 - val_loss: 81.5823 - val_mae: 6.4466 - val_mse: 81.5823\n",
      "Epoch 14/20\n",
      "404/404 [==============================] - 0s 109us/sample - loss: 82.3705 - mae: 6.5307 - mse: 82.3705 - val_loss: 81.3373 - val_mae: 6.4372 - val_mse: 81.3373\n",
      "Epoch 15/20\n",
      "404/404 [==============================] - 0s 108us/sample - loss: 82.1173 - mae: 6.5293 - mse: 82.1173 - val_loss: 81.0764 - val_mae: 6.4270 - val_mse: 81.0764\n",
      "Epoch 16/20\n",
      "404/404 [==============================] - 0s 96us/sample - loss: 81.9375 - mae: 6.5099 - mse: 81.9375 - val_loss: 80.7541 - val_mae: 6.4168 - val_mse: 80.7541\n",
      "Epoch 17/20\n",
      "404/404 [==============================] - 0s 101us/sample - loss: 81.6305 - mae: 6.5349 - mse: 81.6305 - val_loss: 80.2759 - val_mae: 6.4164 - val_mse: 80.2759\n",
      "Epoch 18/20\n",
      "404/404 [==============================] - 0s 95us/sample - loss: 81.2758 - mae: 6.5044 - mse: 81.2758 - val_loss: 80.1181 - val_mae: 6.3913 - val_mse: 80.1181\n",
      "Epoch 19/20\n",
      "404/404 [==============================] - 0s 99us/sample - loss: 80.9391 - mae: 6.4865 - mse: 80.9391 - val_loss: 79.6489 - val_mae: 6.3795 - val_mse: 79.6489\n",
      "Epoch 20/20\n",
      "404/404 [==============================] - 0s 92us/sample - loss: 80.4934 - mae: 6.4601 - mse: 80.4934 - val_loss: 79.3395 - val_mae: 6.3526 - val_mse: 79.3395\n"
     ]
    },
    {
     "data": {
      "text/plain": [
       "<tensorflow.python.keras.callbacks.History at 0x2e68e663048>"
      ]
     },
     "execution_count": 29,
     "metadata": {},
     "output_type": "execute_result"
    }
   ],
   "source": [
    "model.fit(x=x_train_norm, \n",
    "        y=y_train, \n",
    "        epochs=20, \n",
    "        validation_data=(x_test_norm, y_test), \n",
    "        callbacks=[tensorboard_callback])#, stop])"
   ]
  },
  {
   "cell_type": "code",
   "execution_count": 32,
   "metadata": {},
   "outputs": [
    {
     "name": "stdout",
     "output_type": "stream",
     "text": [
      "\n",
      "# Evaluate on test data\n",
      "102/102 [==============================] - 0s 29us/sample - loss: 79.3395 - mae: 6.3526 - mse: 79.3395\n",
      "Test loss 79.3394775390625\n",
      "Test MAE: 6.3526263\n",
      "Test MSE: 79.33948\n"
     ]
    }
   ],
   "source": [
    "print('\\n# Evaluate on test data')\n",
    "results = model.evaluate(x_test_norm, y_test, batch_size=128)\n",
    "print('Test loss', results[0])\n",
    "print('Test MAE:', results[1])\n",
    "print('Test MSE:', results[2])"
   ]
  },
  {
   "cell_type": "code",
   "execution_count": 33,
   "metadata": {},
   "outputs": [],
   "source": [
    "tf_mae = results[1]\n",
    "tf_mse = results[2]"
   ]
  },
  {
   "cell_type": "code",
   "execution_count": 22,
   "metadata": {},
   "outputs": [
    {
     "data": {
      "text/plain": [
       "Reusing TensorBoard on port 6006 (pid 15212), started 3:15:23 ago. (Use '!kill 15212' to kill it.)"
      ]
     },
     "metadata": {},
     "output_type": "display_data"
    },
    {
     "data": {
      "text/html": [
       "\n",
       "      <iframe id=\"tensorboard-frame-18acfc08ad8035e1\" width=\"100%\" height=\"800\" frameborder=\"0\">\n",
       "      </iframe>\n",
       "      <script>\n",
       "        (function() {\n",
       "          const frame = document.getElementById(\"tensorboard-frame-18acfc08ad8035e1\");\n",
       "          const url = new URL(\"/\", window.location);\n",
       "          url.port = 6006;\n",
       "          frame.src = url;\n",
       "        })();\n",
       "      </script>\n",
       "  "
      ],
      "text/plain": [
       "<IPython.core.display.HTML object>"
      ]
     },
     "metadata": {},
     "output_type": "display_data"
    }
   ],
   "source": [
    "%tensorboard --logdir logs"
   ]
  },
  {
   "cell_type": "markdown",
   "metadata": {},
   "source": [
    "## Linear Regression"
   ]
  },
  {
   "cell_type": "code",
   "execution_count": 26,
   "metadata": {},
   "outputs": [
    {
     "name": "stdout",
     "output_type": "stream",
     "text": [
      "Train on 404 samples\n",
      "404/404 [==============================] - 0s 49us/sample - loss: 84.3051 - mae: 6.6246 - mse: 84.3051\n"
     ]
    }
   ],
   "source": [
    "from sklearn.linear_model import LinearRegression\n",
    "from sklearn.metrics import mean_absolute_error, mean_squared_error\n",
    "\n",
    "lin_model = LinearRegression()\n",
    "model.fit(x_train_norm, y_train)\n",
    "y_pred_train = model.predict(x_train_norm)\n",
    "y_pred_test = model.predict(x_test_norm)"
   ]
  },
  {
   "cell_type": "code",
   "execution_count": 28,
   "metadata": {},
   "outputs": [
    {
     "name": "stdout",
     "output_type": "stream",
     "text": [
      "Test Mean Square Error: 83.55452583406036\n",
      "Test Mean Absolute Error: 6.511185234668208\n"
     ]
    }
   ],
   "source": [
    "#print('Train Mean Squared Error:', (mean_squared_error(y_train, y_pred_train)))\n",
    "print('Test Mean Square Error:', mean_squared_error(y_test, y_pred_test))\n",
    "#print('Train Mean Absolute Error:', mean_absolute_error(y_train, y_pred_train))\n",
    "print('Test Mean Absolute Error:', mean_absolute_error(y_test, y_pred_test))"
   ]
  },
  {
   "cell_type": "code",
   "execution_count": 34,
   "metadata": {},
   "outputs": [],
   "source": [
    "lin_mae = mean_absolute_error(y_test, y_pred_test)\n",
    "lin_mse = mean_squared_error(y_test, y_pred_test)"
   ]
  },
  {
   "cell_type": "markdown",
   "metadata": {},
   "source": [
    "## Comparison"
   ]
  },
  {
   "cell_type": "code",
   "execution_count": 39,
   "metadata": {},
   "outputs": [
    {
     "name": "stdout",
     "output_type": "stream",
     "text": [
      "Keras Model\n",
      "MAE: 6.35\n",
      "MSE: 79.34\n",
      "--------------------\n",
      "Linear Regression Model\n",
      "MAE: 6.51\n",
      "MSE: 83.55\n"
     ]
    }
   ],
   "source": [
    "# On comparison, the tensorflow model was better but not by a crazy margin. \n",
    "print(\"Keras Model\")\n",
    "print(f\"MAE: {tf_mae:.2f}\")\n",
    "print(f\"MSE: {tf_mse:.2f}\")\n",
    "print('-'*20)\n",
    "print(\"Linear Regression Model\")\n",
    "print(f\"MAE: {lin_mae:.2f}\")\n",
    "print(f\"MSE: {lin_mse:.2f}\")"
   ]
  },
  {
   "cell_type": "code",
   "execution_count": null,
   "metadata": {},
   "outputs": [],
   "source": []
  },
  {
   "cell_type": "markdown",
   "metadata": {
    "colab_type": "text",
    "id": "SfcFnOONyuNm"
   },
   "source": [
    "## Use the Keras Library to build an image recognition network using the Fashion-MNIST dataset (also comes with keras)\n",
    "\n",
    "- Load and preprocess the image data similar to how we preprocessed the MNIST data in class.\n",
    "- Make sure to one-hot encode your category labels\n",
    "- The number of nodes in your output layer should equal the number of classes you want to predict for Fashion-MNIST.\n",
    "- Try different hyperparameters. What is the highest accuracy that you are able to achieve.\n",
    "- Use the history object that is returned from model.fit to make graphs of the model's loss or train/validation accuracies by epoch. \n",
    "- Remember that neural networks fall prey to randomness so you may need to run your model multiple times (or use Cross Validation) in order to tell if a change to a hyperparameter is truly producing better results."
   ]
  },
  {
   "cell_type": "code",
   "execution_count": 40,
   "metadata": {
    "colab": {},
    "colab_type": "code",
    "id": "szi6-IpuzaH1"
   },
   "outputs": [],
   "source": [
    "##### Your Code Here #####\n",
    "from tensorflow import keras\n",
    "from tensorflow.keras.datasets import fashion_mnist\n",
    "from tensorflow.keras.models import Sequential\n",
    "from tensorflow.keras.layers import Dense, Dropout\n",
    "\n",
    "import numpy as np"
   ]
  },
  {
   "cell_type": "code",
   "execution_count": 41,
   "metadata": {},
   "outputs": [
    {
     "name": "stdout",
     "output_type": "stream",
     "text": [
      "Downloading data from https://storage.googleapis.com/tensorflow/tf-keras-datasets/train-labels-idx1-ubyte.gz\n",
      "32768/29515 [=================================] - 0s 2us/step\n",
      "Downloading data from https://storage.googleapis.com/tensorflow/tf-keras-datasets/train-images-idx3-ubyte.gz\n",
      "26427392/26421880 [==============================] - 4s 0us/step\n",
      "Downloading data from https://storage.googleapis.com/tensorflow/tf-keras-datasets/t10k-labels-idx1-ubyte.gz\n",
      "8192/5148 [===============================================] - 0s 0s/step\n",
      "Downloading data from https://storage.googleapis.com/tensorflow/tf-keras-datasets/t10k-images-idx3-ubyte.gz\n",
      "4423680/4422102 [==============================] - 1s 0us/step\n"
     ]
    }
   ],
   "source": [
    "# Load the Data\n",
    "(X_train, y_train), (X_test, y_test) = fashion_mnist.load_data()"
   ]
  },
  {
   "cell_type": "code",
   "execution_count": 43,
   "metadata": {},
   "outputs": [
    {
     "data": {
      "text/plain": [
       "((60000, 28, 28), (60000,), (10000, 28, 28), (10000,))"
      ]
     },
     "execution_count": 43,
     "metadata": {},
     "output_type": "execute_result"
    }
   ],
   "source": [
    "X_train.shape, y_train.shape, X_test.shape, y_test.shape"
   ]
  },
  {
   "cell_type": "code",
   "execution_count": 44,
   "metadata": {},
   "outputs": [
    {
     "data": {
      "text/plain": [
       "(28, 28)"
      ]
     },
     "execution_count": 44,
     "metadata": {},
     "output_type": "execute_result"
    }
   ],
   "source": [
    "X_train[0].shape"
   ]
  },
  {
   "cell_type": "code",
   "execution_count": 50,
   "metadata": {},
   "outputs": [
    {
     "data": {
      "text/plain": [
       "<matplotlib.image.AxesImage at 0x2e695335948>"
      ]
     },
     "execution_count": 50,
     "metadata": {},
     "output_type": "execute_result"
    },
    {
     "data": {
      "image/png": "[encoded data removed]",
      "text/plain": [
       "<Figure size 432x288 with 1 Axes>"
      ]
     },
     "metadata": {
      "needs_background": "light"
     },
     "output_type": "display_data"
    }
   ],
   "source": [
    "import matplotlib.pyplot as plt\n",
    "\n",
    "plt.imshow(X_test[1])"
   ]
  },
  {
   "cell_type": "code",
   "execution_count": 51,
   "metadata": {},
   "outputs": [],
   "source": [
    "# X Variable Types\n",
    "num_classes = 10  # Because there are 10 different classes for outcomes\n",
    "\n",
    "X_train = X_train.astype('float32') / 255.\n",
    "X_test = X_test.astype('float32') /255.\n",
    "\n",
    "# Correct Encoding on Y\n",
    "# What softmax expects = [0,0,0,0,0,1,0,0,0,0]\n",
    "y_train = keras.utils.to_categorical(y_train, num_classes)\n",
    "y_test = keras.utils.to_categorical(y_test, num_classes)"
   ]
  },
  {
   "cell_type": "code",
   "execution_count": 53,
   "metadata": {},
   "outputs": [
    {
     "name": "stdout",
     "output_type": "stream",
     "text": [
      "Train on 60000 samples, validate on 10000 samples\n",
      "Epoch 1/50\n",
      "60000/60000 [==============================] - 3s 55us/sample - loss: 0.4877 - accuracy: 0.8228 - val_loss: 0.4842 - val_accuracy: 0.8152\n",
      "Epoch 2/50\n",
      "60000/60000 [==============================] - 3s 50us/sample - loss: 0.3671 - accuracy: 0.8644 - val_loss: 0.3564 - val_accuracy: 0.8717\n",
      "Epoch 3/50\n",
      "60000/60000 [==============================] - 3s 51us/sample - loss: 0.3285 - accuracy: 0.8790 - val_loss: 0.3719 - val_accuracy: 0.8661\n",
      "Epoch 4/50\n",
      "60000/60000 [==============================] - 3s 50us/sample - loss: 0.3089 - accuracy: 0.8852 - val_loss: 0.3666 - val_accuracy: 0.8705\n",
      "Epoch 5/50\n",
      "60000/60000 [==============================] - 3s 50us/sample - loss: 0.2930 - accuracy: 0.8913 - val_loss: 0.3386 - val_accuracy: 0.8758\n"
     ]
    },
    {
     "data": {
      "text/plain": [
       "<tensorflow.python.keras.callbacks.History at 0x2e6918f3c08>"
      ]
     },
     "execution_count": 53,
     "metadata": {},
     "output_type": "execute_result"
    }
   ],
   "source": [
    "from tensorflow.keras.callbacks import EarlyStopping\n",
    "from tensorflow.keras.layers import Flatten\n",
    "\n",
    "logdir = os.path.join(\"logs\", datetime.datetime.now().strftime(\"%Y%m%d-%H%M%S\"))\n",
    "tensorboard_callback = tf.keras.callbacks.TensorBoard(logdir, histogram_freq=1)\n",
    "\n",
    "stop = EarlyStopping(monitor='val_accuracy', min_delta=0.01, patience=3)\n",
    "\n",
    "model = Sequential([\n",
    "    Flatten(),\n",
    "    Dense(128, input_dim=784, activation=\"relu\"),\n",
    "    Dense(128, activation=\"relu\"),\n",
    "    Dense(128, activation=\"relu\"),\n",
    "    Dense(10, activation=\"softmax\")\n",
    "])\n",
    "\n",
    "model.compile(loss='categorical_crossentropy', optimizer='adam', metrics=['accuracy'])\n",
    "\n",
    "model.fit(x=X_train, \n",
    "        y=y_train, \n",
    "        epochs=50, \n",
    "        validation_data=(X_test, y_test), \n",
    "        callbacks=[tensorboard_callback, stop])"
   ]
  },
  {
   "cell_type": "code",
   "execution_count": 54,
   "metadata": {},
   "outputs": [
    {
     "data": {
      "text/plain": [
       "Reusing TensorBoard on port 6006 (pid 15212), started 4:19:36 ago. (Use '!kill 15212' to kill it.)"
      ]
     },
     "metadata": {},
     "output_type": "display_data"
    },
    {
     "data": {
      "text/html": [
       "\n",
       "      <iframe id=\"tensorboard-frame-a2228c876f8f7c7d\" width=\"100%\" height=\"800\" frameborder=\"0\">\n",
       "      </iframe>\n",
       "      <script>\n",
       "        (function() {\n",
       "          const frame = document.getElementById(\"tensorboard-frame-a2228c876f8f7c7d\");\n",
       "          const url = new URL(\"/\", window.location);\n",
       "          url.port = 6006;\n",
       "          frame.src = url;\n",
       "        })();\n",
       "      </script>\n",
       "  "
      ],
      "text/plain": [
       "<IPython.core.display.HTML object>"
      ]
     },
     "metadata": {},
     "output_type": "display_data"
    }
   ],
   "source": [
    "%tensorboard --logdir logs"
   ]
  },
  {
   "cell_type": "code",
   "execution_count": null,
   "metadata": {},
   "outputs": [],
   "source": []
  },
  {
   "cell_type": "markdown",
   "metadata": {
    "colab_type": "text",
    "id": "zv_3xNMjzdLI"
   },
   "source": [
    "## Stretch Goals:\n",
    "\n",
    "- Use Hyperparameter Tuning to make the accuracy of your models as high as possible. (error as low as possible)\n",
    "- Use Cross Validation techniques to get more consistent results with your model.\n",
    "- Use GridSearchCV to try different combinations of hyperparameters. \n",
    "- Start looking into other types of Keras layers for CNNs and RNNs maybe try and build a CNN model for fashion-MNIST to see how the results compare."
   ]
  }
 ],
 "metadata": {
  "colab": {
   "name": "LS_DS_433_Keras_Assignment.ipynb",
   "provenance": [],
   "version": "0.3.2"
  },
  "kernelspec": {
   "display_name": "Python 3",
   "language": "python",
   "name": "python3"
  },
  "language_info": {
   "codemirror_mode": {
    "name": "ipython",
    "version": 3
   },
   "file_extension": ".py",
   "mimetype": "text/x-python",
   "name": "python",
   "nbconvert_exporter": "python",
   "pygments_lexer": "ipython3",
   "version": "3.7.4"
  }
 },
 "nbformat": 4,
 "nbformat_minor": 4
}
