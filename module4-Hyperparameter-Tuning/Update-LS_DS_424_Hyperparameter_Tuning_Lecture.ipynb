{
 "cells": [
  {
   "cell_type": "markdown",
   "metadata": {
    "colab_type": "text",
    "id": "41TS0Sa0rDNx"
   },
   "source": [
    "Lambda School Data Science\n",
    "\n",
    "*Unit 4, Sprint 2, Module 4*\n",
    "\n",
    "---"
   ]
  },
  {
   "cell_type": "markdown",
   "metadata": {
    "colab_type": "text",
    "id": "41TS0Sa0rDNx"
   },
   "source": [
    "# Neural Networks Hyperparameter Tuning (Prepare)"
   ]
  },
  {
   "cell_type": "markdown",
   "metadata": {
    "colab_type": "text",
    "id": "41TS0Sa0rDNx"
   },
   "source": [
    "## Learning Objectives\n",
    "* <a href=\"#p1\">Part 1</a>: Describe the major hyperparemeters to tune\n",
    "* <a href=\"#p2\">Part 2</a>: Implement an experiment tracking framework"
   ]
  },
  {
   "cell_type": "code",
   "execution_count": 1,
   "metadata": {},
   "outputs": [],
   "source": [
    "wandb_group = \"ds8\"\n",
    "wandb_project = \"ds11_inclass\""
   ]
  },
  {
   "cell_type": "markdown",
   "metadata": {},
   "source": [
    "# Hyperparameter Options (Learn)\n",
    "<a id=\"p1\"></a>"
   ]
  },
  {
   "cell_type": "markdown",
   "metadata": {},
   "source": [
    "## Overview\n",
    "\n",
    "Hyperparameter tuning is much more important with neural networks than it has been with any other models that we have considered up to this point. Other supervised learning models might have a couple of parameters, but neural networks can have dozens. These can substantially affect the accuracy of our models and although it can be a time consuming process is a necessary step when working with neural networks.\n",
    "​\n",
    "Hyperparameter tuning comes with a challenge. How can we compare models specified with different hyperparameters if our model's final error metric can vary somewhat erratically? How do we avoid just getting unlucky and selecting the wrong hyperparameter? This is a problem that to a certain degree we just have to live with as we test and test again. However, we can minimize it somewhat by pairing our experiments with Cross Validation to reduce the variance of our final accuracy values."
   ]
  },
  {
   "cell_type": "markdown",
   "metadata": {
    "colab_type": "text",
    "id": "0s0o2pqBs88q"
   },
   "source": [
    "### Load Boston Housing Data"
   ]
  },
  {
   "cell_type": "code",
   "execution_count": 2,
   "metadata": {},
   "outputs": [],
   "source": [
    "from tensorflow.keras.datasets import boston_housing\n",
    "\n",
    "(x_train, y_train), (x_test, y_test) = boston_housing.load_data()"
   ]
  },
  {
   "cell_type": "markdown",
   "metadata": {
    "colab_type": "text",
    "id": "Pm7zow5IvaTt"
   },
   "source": [
    "### Normalizing Input Data\n",
    "\n",
    "It's not 100% necessary to normalize/scale your input data before feeding it to a neural network, the network can learn the appropriate weights to deal with data of as long as it is numerically represented,  but it is recommended as it can help **make training faster** and **reduces the chances that gradient descent might get stuck in a local optimum**.\n",
    "\n",
    "<https://stackoverflow.com/questions/4674623/why-do-we-have-to-normalize-the-input-for-an-artificial-neural-network>"
   ]
  },
  {
   "cell_type": "code",
   "execution_count": 3,
   "metadata": {},
   "outputs": [
    {
     "name": "stdout",
     "output_type": "stream",
     "text": [
      "[[-0.27224633 -0.48361547 -0.43576161 -0.25683275 -0.1652266  -0.1764426\n",
      "   0.81306188  0.1166983  -0.62624905 -0.59517003  1.14850044  0.44807713\n",
      "   0.8252202 ]\n",
      " [-0.40342651  2.99178419 -1.33391162 -0.25683275 -1.21518188  1.89434613\n",
      "  -1.91036058  1.24758524 -0.85646254 -0.34843254 -1.71818909  0.43190599\n",
      "  -1.32920239]\n",
      " [ 0.1249402  -0.48361547  1.0283258  -0.25683275  0.62864202 -1.82968811\n",
      "   1.11048828 -1.18743907  1.67588577  1.5652875   0.78447637  0.22061726\n",
      "  -1.30850006]\n",
      " [-0.40149354 -0.48361547 -0.86940196 -0.25683275 -0.3615597  -0.3245576\n",
      "  -1.23667187  1.10717989 -0.51114231 -1.094663    0.78447637  0.44807713\n",
      "  -0.65292624]\n",
      " [-0.0056343  -0.48361547  1.0283258  -0.25683275  1.32861221  0.15364225\n",
      "   0.69480801 -0.57857203  1.67588577  1.5652875   0.78447637  0.3898823\n",
      "   0.26349695]\n",
      " [-0.37502238 -0.48361547 -0.54747912 -0.25683275 -0.54935658 -0.78865126\n",
      "   0.18954148  0.48371503 -0.51114231 -0.71552978  0.51145832  0.38669063\n",
      "  -0.13812828]\n",
      " [ 0.58963463 -0.48361547  1.0283258  -0.25683275  1.21764133 -1.03127774\n",
      "   1.11048828 -1.06518235  1.67588577  1.5652875   0.78447637  0.44807713\n",
      "   1.49873604]\n",
      " [ 0.0381708  -0.48361547  1.24588095 -0.25683275  2.67733525 -1.12719983\n",
      "   1.11048828 -1.14833073 -0.51114231 -0.01744323 -1.71818909  0.44807713\n",
      "   1.88793986]\n",
      " [-0.17228416 -0.48361547  1.24588095 -0.25683275  2.67733525 -0.90150078\n",
      "   1.11048828 -1.09664657 -0.51114231 -0.01744323 -1.71818909 -1.97365769\n",
      "   0.53952803]\n",
      " [-0.22932104 -0.48361547  1.58544339 -0.25683275  0.56888847 -1.76056777\n",
      "   1.11048828 -1.13471925 -0.62624905  0.18716835  1.23950646  0.44807713\n",
      "   2.99068404]]\n"
     ]
    }
   ],
   "source": [
    "from sklearn.preprocessing import StandardScaler\n",
    "\n",
    "scaler = StandardScaler()\n",
    "\n",
    "x_train = scaler.fit_transform(x_train)\n",
    "x_test = scaler.transform(x_test)\n",
    "print(x_train[:10])"
   ]
  },
  {
   "cell_type": "markdown",
   "metadata": {
    "colab_type": "text",
    "id": "l6hgCWbir90R"
   },
   "source": [
    "### Model Validation using an automatic verification Dataset\n",
    "\n",
    "Instead of doing seperate train test split class, Keras has a really nice feature that you can set the validation.data argument when fitting your model and Keras will take that portion of your test data and use it as a validation dataset. "
   ]
  },
  {
   "cell_type": "code",
   "execution_count": 4,
   "metadata": {
    "colab": {
     "base_uri": "https://localhost:8080/",
     "height": 1750
    },
    "colab_type": "code",
    "id": "GMXVfmzXp1Oo",
    "outputId": "b05e251e-508f-46e6-865b-f869ae2a5dc4"
   },
   "outputs": [
    {
     "name": "stdout",
     "output_type": "stream",
     "text": [
      "Train on 404 samples, validate on 102 samples\n",
      "Epoch 1/75\n",
      "404/404 [==============================] - 0s 933us/sample - loss: 533.5933 - mse: 533.5933 - mae: 21.1323 - val_loss: 475.4089 - val_mse: 475.4088 - val_mae: 19.7090\n",
      "Epoch 2/75\n",
      "404/404 [==============================] - 0s 138us/sample - loss: 316.7675 - mse: 316.7675 - mae: 15.1956 - val_loss: 174.2695 - val_mse: 174.2695 - val_mae: 10.9492\n",
      "Epoch 3/75\n",
      "404/404 [==============================] - 0s 114us/sample - loss: 80.2411 - mse: 80.2411 - mae: 6.5424 - val_loss: 53.7467 - val_mse: 53.7467 - val_mae: 5.6308\n",
      "Epoch 4/75\n",
      "404/404 [==============================] - 0s 121us/sample - loss: 32.8847 - mse: 32.8847 - mae: 4.1838 - val_loss: 33.8917 - val_mse: 33.8917 - val_mae: 4.4321\n",
      "Epoch 5/75\n",
      "404/404 [==============================] - 0s 155us/sample - loss: 21.9812 - mse: 21.9812 - mae: 3.3435 - val_loss: 29.3627 - val_mse: 29.3627 - val_mae: 4.0548\n",
      "Epoch 6/75\n",
      "404/404 [==============================] - 0s 126us/sample - loss: 18.6797 - mse: 18.6797 - mae: 3.1298 - val_loss: 27.5107 - val_mse: 27.5107 - val_mae: 3.7888\n",
      "Epoch 7/75\n",
      "404/404 [==============================] - 0s 118us/sample - loss: 16.9283 - mse: 16.9283 - mae: 2.8748 - val_loss: 26.2321 - val_mse: 26.2321 - val_mae: 3.6069\n",
      "Epoch 8/75\n",
      "404/404 [==============================] - 0s 126us/sample - loss: 15.3989 - mse: 15.3989 - mae: 2.7654 - val_loss: 25.7850 - val_mse: 25.7850 - val_mae: 3.5642\n",
      "Epoch 9/75\n",
      "404/404 [==============================] - 0s 123us/sample - loss: 14.2744 - mse: 14.2744 - mae: 2.6971 - val_loss: 25.2335 - val_mse: 25.2335 - val_mae: 3.5013\n",
      "Epoch 10/75\n",
      "404/404 [==============================] - 0s 121us/sample - loss: 13.5022 - mse: 13.5022 - mae: 2.5769 - val_loss: 25.5821 - val_mse: 25.5821 - val_mae: 3.4626\n",
      "Epoch 11/75\n",
      "404/404 [==============================] - 0s 119us/sample - loss: 12.6912 - mse: 12.6912 - mae: 2.5227 - val_loss: 24.4149 - val_mse: 24.4149 - val_mae: 3.3446\n",
      "Epoch 12/75\n",
      "404/404 [==============================] - 0s 173us/sample - loss: 12.2124 - mse: 12.2124 - mae: 2.4477 - val_loss: 25.0616 - val_mse: 25.0616 - val_mae: 3.3731\n",
      "Epoch 13/75\n",
      "404/404 [==============================] - 0s 131us/sample - loss: 11.8439 - mse: 11.8439 - mae: 2.4878 - val_loss: 24.8411 - val_mse: 24.8411 - val_mae: 3.2702\n",
      "Epoch 14/75\n",
      "404/404 [==============================] - 0s 133us/sample - loss: 11.0808 - mse: 11.0808 - mae: 2.3408 - val_loss: 24.3483 - val_mse: 24.3483 - val_mae: 3.2886\n",
      "Epoch 15/75\n",
      "404/404 [==============================] - 0s 123us/sample - loss: 10.8810 - mse: 10.8810 - mae: 2.3489 - val_loss: 24.6070 - val_mse: 24.6070 - val_mae: 3.2375\n",
      "Epoch 16/75\n",
      "404/404 [==============================] - 0s 126us/sample - loss: 10.5513 - mse: 10.5513 - mae: 2.3174 - val_loss: 25.0330 - val_mse: 25.0330 - val_mae: 3.2811\n",
      "Epoch 17/75\n",
      "404/404 [==============================] - 0s 118us/sample - loss: 10.3689 - mse: 10.3689 - mae: 2.3049 - val_loss: 24.3281 - val_mse: 24.3281 - val_mae: 3.2428\n",
      "Epoch 18/75\n",
      "404/404 [==============================] - 0s 123us/sample - loss: 10.0912 - mse: 10.0912 - mae: 2.2702 - val_loss: 24.3703 - val_mse: 24.3703 - val_mae: 3.1986\n",
      "Epoch 19/75\n",
      "404/404 [==============================] - 0s 123us/sample - loss: 9.9450 - mse: 9.9450 - mae: 2.2395 - val_loss: 24.2900 - val_mse: 24.2900 - val_mae: 3.1405\n",
      "Epoch 20/75\n",
      "404/404 [==============================] - 0s 123us/sample - loss: 9.6931 - mse: 9.6931 - mae: 2.2203 - val_loss: 23.3103 - val_mse: 23.3103 - val_mae: 3.1215\n",
      "Epoch 21/75\n",
      "404/404 [==============================] - 0s 126us/sample - loss: 9.6047 - mse: 9.6047 - mae: 2.1901 - val_loss: 24.2402 - val_mse: 24.2402 - val_mae: 3.1373\n",
      "Epoch 22/75\n",
      "404/404 [==============================] - 0s 146us/sample - loss: 9.5869 - mse: 9.5869 - mae: 2.2236 - val_loss: 23.3704 - val_mse: 23.3704 - val_mae: 3.0531\n",
      "Epoch 23/75\n",
      "404/404 [==============================] - 0s 123us/sample - loss: 9.3968 - mse: 9.3968 - mae: 2.2053 - val_loss: 22.3212 - val_mse: 22.3212 - val_mae: 3.0318\n",
      "Epoch 24/75\n",
      "404/404 [==============================] - 0s 185us/sample - loss: 9.0949 - mse: 9.0949 - mae: 2.1524 - val_loss: 22.8089 - val_mse: 22.8089 - val_mae: 2.9807\n",
      "Epoch 25/75\n",
      "404/404 [==============================] - 0s 139us/sample - loss: 9.1757 - mse: 9.1757 - mae: 2.1571 - val_loss: 22.2776 - val_mse: 22.2776 - val_mae: 2.9662\n",
      "Epoch 26/75\n",
      "404/404 [==============================] - 0s 131us/sample - loss: 8.9377 - mse: 8.9377 - mae: 2.1569 - val_loss: 22.1823 - val_mse: 22.1823 - val_mae: 2.9988\n",
      "Epoch 27/75\n",
      "404/404 [==============================] - 0s 141us/sample - loss: 8.7790 - mse: 8.7790 - mae: 2.1041 - val_loss: 22.1675 - val_mse: 22.1675 - val_mae: 2.9429\n",
      "Epoch 28/75\n",
      "404/404 [==============================] - 0s 133us/sample - loss: 8.7345 - mse: 8.7345 - mae: 2.1000 - val_loss: 22.1681 - val_mse: 22.1681 - val_mae: 2.9601\n",
      "Epoch 29/75\n",
      "404/404 [==============================] - 0s 133us/sample - loss: 8.5848 - mse: 8.5848 - mae: 2.0694 - val_loss: 22.0316 - val_mse: 22.0316 - val_mae: 2.9484\n",
      "Epoch 30/75\n",
      "404/404 [==============================] - 0s 133us/sample - loss: 8.3643 - mse: 8.3643 - mae: 2.0743 - val_loss: 20.7503 - val_mse: 20.7503 - val_mae: 2.9018\n",
      "Epoch 31/75\n",
      "404/404 [==============================] - 0s 133us/sample - loss: 8.6867 - mse: 8.6867 - mae: 2.0864 - val_loss: 22.1542 - val_mse: 22.1542 - val_mae: 2.9297\n",
      "Epoch 32/75\n",
      "404/404 [==============================] - 0s 131us/sample - loss: 8.2992 - mse: 8.2992 - mae: 2.0499 - val_loss: 21.1066 - val_mse: 21.1066 - val_mae: 2.9606\n",
      "Epoch 33/75\n",
      "404/404 [==============================] - 0s 131us/sample - loss: 8.3666 - mse: 8.3666 - mae: 2.0502 - val_loss: 21.9037 - val_mse: 21.9037 - val_mae: 2.9075\n",
      "Epoch 34/75\n",
      "404/404 [==============================] - 0s 131us/sample - loss: 8.0940 - mse: 8.0940 - mae: 1.9910 - val_loss: 20.2122 - val_mse: 20.2122 - val_mae: 2.8335\n",
      "Epoch 35/75\n",
      "404/404 [==============================] - 0s 136us/sample - loss: 8.0023 - mse: 8.0023 - mae: 1.9863 - val_loss: 20.6519 - val_mse: 20.6519 - val_mae: 2.8685\n",
      "Epoch 36/75\n",
      "404/404 [==============================] - 0s 148us/sample - loss: 7.9898 - mse: 7.9898 - mae: 1.9867 - val_loss: 20.7501 - val_mse: 20.7501 - val_mae: 2.8319\n",
      "Epoch 37/75\n",
      "404/404 [==============================] - 0s 138us/sample - loss: 7.7669 - mse: 7.7669 - mae: 1.9669 - val_loss: 21.3299 - val_mse: 21.3299 - val_mae: 2.9096\n",
      "Epoch 38/75\n",
      "404/404 [==============================] - 0s 133us/sample - loss: 7.7784 - mse: 7.7784 - mae: 1.9562 - val_loss: 21.4200 - val_mse: 21.4200 - val_mae: 2.9649\n",
      "Epoch 39/75\n",
      "404/404 [==============================] - 0s 133us/sample - loss: 7.7522 - mse: 7.7522 - mae: 1.9648 - val_loss: 19.6945 - val_mse: 19.6945 - val_mae: 2.7924\n",
      "Epoch 40/75\n",
      "404/404 [==============================] - 0s 128us/sample - loss: 7.6877 - mse: 7.6877 - mae: 1.9546 - val_loss: 19.7500 - val_mse: 19.7500 - val_mae: 2.7876\n",
      "Epoch 41/75\n",
      "404/404 [==============================] - 0s 126us/sample - loss: 7.6086 - mse: 7.6086 - mae: 2.0120 - val_loss: 18.3896 - val_mse: 18.3896 - val_mae: 2.7901\n",
      "Epoch 42/75\n",
      "404/404 [==============================] - 0s 126us/sample - loss: 7.6791 - mse: 7.6791 - mae: 1.9352 - val_loss: 19.6146 - val_mse: 19.6145 - val_mae: 2.8004\n",
      "Epoch 43/75\n",
      "404/404 [==============================] - 0s 131us/sample - loss: 7.2715 - mse: 7.2715 - mae: 1.9164 - val_loss: 19.3345 - val_mse: 19.3345 - val_mae: 2.8024\n",
      "Epoch 44/75\n",
      "404/404 [==============================] - 0s 128us/sample - loss: 7.2269 - mse: 7.2269 - mae: 1.8870 - val_loss: 19.6098 - val_mse: 19.6098 - val_mae: 2.7464\n",
      "Epoch 45/75\n",
      "404/404 [==============================] - 0s 138us/sample - loss: 7.2418 - mse: 7.2418 - mae: 1.8923 - val_loss: 18.3504 - val_mse: 18.3504 - val_mae: 2.7269\n",
      "Epoch 46/75\n",
      "404/404 [==============================] - 0s 123us/sample - loss: 7.1006 - mse: 7.1006 - mae: 1.8655 - val_loss: 18.7729 - val_mse: 18.7729 - val_mae: 2.7186\n",
      "Epoch 47/75\n",
      "404/404 [==============================] - 0s 148us/sample - loss: 6.9522 - mse: 6.9522 - mae: 1.8427 - val_loss: 19.1588 - val_mse: 19.1588 - val_mae: 2.7510\n",
      "Epoch 48/75\n",
      "404/404 [==============================] - 0s 168us/sample - loss: 6.9630 - mse: 6.9630 - mae: 1.8580 - val_loss: 20.9845 - val_mse: 20.9845 - val_mae: 2.9615\n",
      "Epoch 49/75\n",
      "404/404 [==============================] - 0s 173us/sample - loss: 7.0583 - mse: 7.0583 - mae: 1.8961 - val_loss: 18.5305 - val_mse: 18.5305 - val_mae: 2.7178\n",
      "Epoch 50/75\n",
      "404/404 [==============================] - 0s 136us/sample - loss: 6.8507 - mse: 6.8507 - mae: 1.8546 - val_loss: 18.5668 - val_mse: 18.5668 - val_mae: 2.7284\n",
      "Epoch 51/75\n",
      "404/404 [==============================] - 0s 123us/sample - loss: 6.9072 - mse: 6.9072 - mae: 1.8806 - val_loss: 19.5848 - val_mse: 19.5848 - val_mae: 2.8736\n",
      "Epoch 52/75\n",
      "404/404 [==============================] - 0s 126us/sample - loss: 6.6087 - mse: 6.6087 - mae: 1.8337 - val_loss: 18.2992 - val_mse: 18.2992 - val_mae: 2.7137\n",
      "Epoch 53/75\n",
      "404/404 [==============================] - 0s 126us/sample - loss: 6.7796 - mse: 6.7796 - mae: 1.8238 - val_loss: 20.5238 - val_mse: 20.5238 - val_mae: 2.8898\n",
      "Epoch 54/75\n",
      "404/404 [==============================] - 0s 126us/sample - loss: 6.8271 - mse: 6.8271 - mae: 1.8700 - val_loss: 18.7207 - val_mse: 18.7207 - val_mae: 2.7244\n",
      "Epoch 55/75\n",
      "404/404 [==============================] - 0s 137us/sample - loss: 6.6020 - mse: 6.6020 - mae: 1.8208 - val_loss: 17.6257 - val_mse: 17.6257 - val_mae: 2.6566\n",
      "Epoch 56/75\n",
      "404/404 [==============================] - 0s 138us/sample - loss: 6.4956 - mse: 6.4956 - mae: 1.7833 - val_loss: 17.1684 - val_mse: 17.1684 - val_mae: 2.6315\n",
      "Epoch 57/75\n",
      "404/404 [==============================] - 0s 138us/sample - loss: 6.3691 - mse: 6.3691 - mae: 1.7702 - val_loss: 18.0423 - val_mse: 18.0423 - val_mae: 2.6815\n",
      "Epoch 58/75\n",
      "404/404 [==============================] - 0s 121us/sample - loss: 6.1418 - mse: 6.1418 - mae: 1.7476 - val_loss: 17.2840 - val_mse: 17.2840 - val_mae: 2.6383\n",
      "Epoch 59/75\n",
      "404/404 [==============================] - 0s 151us/sample - loss: 6.1329 - mse: 6.1329 - mae: 1.7732 - val_loss: 16.7293 - val_mse: 16.7293 - val_mae: 2.6218\n",
      "Epoch 60/75\n",
      "404/404 [==============================] - 0s 133us/sample - loss: 6.2318 - mse: 6.2318 - mae: 1.7661 - val_loss: 17.2718 - val_mse: 17.2718 - val_mae: 2.6635\n",
      "Epoch 61/75\n",
      "404/404 [==============================] - 0s 123us/sample - loss: 6.1030 - mse: 6.1030 - mae: 1.7205 - val_loss: 17.7542 - val_mse: 17.7542 - val_mae: 2.6871\n",
      "Epoch 62/75\n",
      "404/404 [==============================] - 0s 126us/sample - loss: 5.8963 - mse: 5.8963 - mae: 1.7283 - val_loss: 17.2695 - val_mse: 17.2695 - val_mae: 2.6573\n",
      "Epoch 63/75\n",
      "404/404 [==============================] - 0s 133us/sample - loss: 6.0144 - mse: 6.0144 - mae: 1.7795 - val_loss: 16.9332 - val_mse: 16.9332 - val_mae: 2.6964\n",
      "Epoch 64/75\n",
      "404/404 [==============================] - 0s 141us/sample - loss: 5.9949 - mse: 5.9949 - mae: 1.7341 - val_loss: 16.6889 - val_mse: 16.6889 - val_mae: 2.6102\n",
      "Epoch 65/75\n",
      "404/404 [==============================] - 0s 138us/sample - loss: 5.8415 - mse: 5.8415 - mae: 1.7305 - val_loss: 16.6216 - val_mse: 16.6216 - val_mae: 2.6066\n",
      "Epoch 66/75\n",
      "404/404 [==============================] - 0s 128us/sample - loss: 5.7076 - mse: 5.7076 - mae: 1.6801 - val_loss: 18.5021 - val_mse: 18.5021 - val_mae: 2.8189\n",
      "Epoch 67/75\n",
      "404/404 [==============================] - 0s 133us/sample - loss: 5.6881 - mse: 5.6881 - mae: 1.7078 - val_loss: 16.5981 - val_mse: 16.5981 - val_mae: 2.5993\n",
      "Epoch 68/75\n",
      "404/404 [==============================] - 0s 128us/sample - loss: 5.9034 - mse: 5.9034 - mae: 1.7099 - val_loss: 17.1625 - val_mse: 17.1625 - val_mae: 2.6842\n",
      "Epoch 69/75\n",
      "404/404 [==============================] - 0s 126us/sample - loss: 5.4265 - mse: 5.4265 - mae: 1.6462 - val_loss: 16.8610 - val_mse: 16.8610 - val_mae: 2.6412\n",
      "Epoch 70/75\n",
      "404/404 [==============================] - 0s 131us/sample - loss: 5.4681 - mse: 5.4681 - mae: 1.7004 - val_loss: 15.7523 - val_mse: 15.7523 - val_mae: 2.5740\n",
      "Epoch 71/75\n",
      "404/404 [==============================] - 0s 131us/sample - loss: 5.4198 - mse: 5.4198 - mae: 1.6486 - val_loss: 16.5170 - val_mse: 16.5170 - val_mae: 2.6166\n",
      "Epoch 72/75\n",
      "404/404 [==============================] - 0s 131us/sample - loss: 5.3520 - mse: 5.3520 - mae: 1.6609 - val_loss: 16.7490 - val_mse: 16.7490 - val_mae: 2.6729\n",
      "Epoch 73/75\n",
      "404/404 [==============================] - 0s 136us/sample - loss: 5.0835 - mse: 5.0835 - mae: 1.6255 - val_loss: 16.3316 - val_mse: 16.3316 - val_mae: 2.6683\n",
      "Epoch 74/75\n",
      "404/404 [==============================] - 0s 128us/sample - loss: 5.0461 - mse: 5.0461 - mae: 1.6002 - val_loss: 16.5062 - val_mse: 16.5062 - val_mae: 2.6264\n",
      "Epoch 75/75\n",
      "404/404 [==============================] - 0s 118us/sample - loss: 5.0876 - mse: 5.0876 - mae: 1.6236 - val_loss: 16.0003 - val_mse: 16.0003 - val_mae: 2.6137\n"
     ]
    },
    {
     "data": {
      "text/plain": [
       "<tensorflow.python.keras.callbacks.History at 0x20331ef5710>"
      ]
     },
     "execution_count": 4,
     "metadata": {},
     "output_type": "execute_result"
    }
   ],
   "source": [
    "from tensorflow import keras\n",
    "from tensorflow.keras.models import Sequential\n",
    "from tensorflow.keras.layers import Dense\n",
    "\n",
    "# Important Hyperparameters\n",
    "inputs = x_train.shape[1]\n",
    "epochs = 75\n",
    "batch_size = 10\n",
    "\n",
    "\n",
    "# Create Model\n",
    "model = Sequential()\n",
    "model.add(Dense(64, activation='relu', input_shape=(inputs,)))\n",
    "model.add(Dense(64, activation='relu'))\n",
    "model.add(Dense(1))\n",
    "\n",
    "# Compile Model\n",
    "model.compile(optimizer='adam', loss='mse', metrics=['mse', 'mae'])\n",
    "\n",
    "# Fit Model\n",
    "model.fit(x_train, y_train, \n",
    "          validation_data=(x_test,y_test), \n",
    "          epochs=epochs, \n",
    "          batch_size=batch_size\n",
    "         )"
   ]
  },
  {
   "cell_type": "markdown",
   "metadata": {
    "colab_type": "text",
    "id": "sYJ8t_ezHP4W"
   },
   "source": [
    "### Hyperparameter Tuning Approaches:\n",
    "\n",
    "#### 1) Babysitting AKA \"Grad Student Descent\".\n",
    "\n",
    "If you fiddled with any hyperparameters yesterday, this is basically what you did. This approach is 100% manual and is pretty common among researchers where finding that 1 exact specification that jumps your model to a level of accuracy never seen before is the difference between publishing and not publishing a paper. Of course the professors don't do this themselves, that's grunt work. This is also known as the fiddle with hyperparameters until you run out of time method.\n",
    "\n",
    "#### 2) Grid Search\n",
    "\n",
    "Grid Search is the Grad Student galaxy brain realization of: why don't I just specify all the experiments I want to run and let the computer try every possible combination of them while I go and grab lunch. This has a specific downside in that if I specify 5 hyperparameters with 5 options each then I've just created 5^5 combinations of hyperparameters to check. Which means that I have to train 3125 different versions of my model Then if I use 5-fold Cross Validation on that then my model has to run 15,525 times. This is the brute-force method of hyperparameter tuning, but it can be very profitable if done wisely. \n",
    "\n",
    "When using Grid Search here's what I suggest: don't use it to test combinations of different hyperparameters, only use it to test different specifications of **a single** hyperparameter. It's rare that combinations between different hyperparameters lead to big performance gains. You'll get 90-95% of the way there if you just Grid Search one parameter and take the best result, then retain that best result while you test another, and then retain the best specification from that while you train another. This at least makes the situation much more manageable and leads to pretty good results. \n",
    "\n",
    "#### 3) Random Search\n",
    "\n",
    "Do Grid Search for a couple of hours and you'll say to yourself - \"There's got to be a better way.\" Enter Random Search. For Random search you specify a hyperparameter space and it picks specifications from that randomly, tries them out, gives you the best results and says - That's going to have to be good enough, go home and spend time with your family. \n",
    "\n",
    "Grid Search treats every parameter as if it was equally important, but this just isn't the case, some are known to move the needle a lot more than others (we'll talk about that in a minute). Random Search allows searching to be specified along the most important parameter and experiments less along the dimensions of less important hyperparameters. The downside of Random search is that it won't find the absolute best hyperparameters, but it is much less costly to perform than Grid Search. \n",
    "\n",
    "#### 4) Bayesian Methods\n",
    "\n",
    "One thing that can make more manual methods like babysitting and gridsearch effective is that as the experimenter sees results he can then make updates to his future searches taking into account the results of past specifications. If only we could hyperparameter tune our hyperparameter tuning. Well, we kind of can. Enter Bayesian Optimization. Neural Networks are like an optimization problem within an optimization problem, and Bayesian Optimization is a search strategy that tries to take into account the results of past searches in order to improve future ones. This is the most advanced method but can be a little bit tricky to implement, but there are some early steps with `hyperas` which is Bayesian optimization wrapper for `keras`. "
   ]
  },
  {
   "cell_type": "markdown",
   "metadata": {
    "colab_type": "text",
    "id": "HfQ7D043OMMn"
   },
   "source": [
    "## What Hyperparameters are there to test?\n",
    "\n",
    "- batch_size\n",
    "- optimization algorithms\n",
    "- learning rate\n",
    "- momentum\n",
    "- activation functions\n",
    "- dropout regularization\n",
    "- number of neurons in the hidden layer\n",
    "\n",
    "There are more, but these are the most important."
   ]
  },
  {
   "cell_type": "markdown",
   "metadata": {},
   "source": [
    "## Follow Along"
   ]
  },
  {
   "cell_type": "markdown",
   "metadata": {
    "colab_type": "text",
    "id": "Mri5-kXzVKAa"
   },
   "source": [
    "## Batch Size\n",
    "\n",
    "Batch size determines how many observations the model is shown before it calculates loss/error and updates the model weights via gradient descent. You're looking for a sweet spot here where you're showing it enough observations that you have enough information to updates the weights, but not such a large batch size that you don't get a lot of weight update iterations performed in a given epoch. Feed-forward Neural Networks aren't as sensitive to bach_size as other networks, but it is still an important hyperparameter to tune. Smaller batch sizes will also take longer to train. "
   ]
  },
  {
   "cell_type": "code",
   "execution_count": 6,
   "metadata": {
    "colab": {
     "base_uri": "https://localhost:8080/",
     "height": 13561
    },
    "colab_type": "code",
    "id": "2smXfriNAGn7",
    "outputId": "ae996575-78e2-43fb-9dbe-5d44aaf0b430"
   },
   "outputs": [
    {
     "name": "stdout",
     "output_type": "stream",
     "text": [
      "Best: 0.6745946884155274 using {'batch_size': 10, 'epochs': 20}\n",
      "Means: 0.6745946884155274, Stdev: 0.04915046098810759 with: {'batch_size': 10, 'epochs': 20}\n",
      "Means: 0.6068585038185119, Stdev: 0.05259420150455631 with: {'batch_size': 20, 'epochs': 20}\n",
      "Means: 0.6160343050956726, Stdev: 0.07045376977463008 with: {'batch_size': 40, 'epochs': 20}\n",
      "Means: 0.5819285273551941, Stdev: 0.036950443847716126 with: {'batch_size': 60, 'epochs': 20}\n",
      "Means: 0.5885833263397217, Stdev: 0.04883324372542904 with: {'batch_size': 80, 'epochs': 20}\n",
      "Means: 0.49460147619247435, Stdev: 0.0659009270565242 with: {'batch_size': 100, 'epochs': 20}\n"
     ]
    }
   ],
   "source": [
    "import numpy\n",
    "import pandas as pd\n",
    "from sklearn.model_selection import GridSearchCV\n",
    "from tensorflow.keras.models import Sequential\n",
    "from tensorflow.keras.layers import Dense\n",
    "from tensorflow.keras.wrappers.scikit_learn import KerasClassifier\n",
    "\n",
    "# fix random seed for reproducibility\n",
    "seed = 7\n",
    "numpy.random.seed(seed)\n",
    "\n",
    "# load dataset\n",
    "url =\"https://raw.githubusercontent.com/jbrownlee/Datasets/master/pima-indians-diabetes.data.csv\"\n",
    "\n",
    "dataset = pd.read_csv(url, header=None).values\n",
    "\n",
    "# split into input (X) and output (Y) variables\n",
    "X = dataset[:,0:8]\n",
    "Y = dataset[:,8]\n",
    "\n",
    "# Function to create model, required for KerasClassifier\n",
    "def create_model():\n",
    "    # create model\n",
    "    model = Sequential()\n",
    "    model.add(Dense(12, input_dim=8, activation='relu'))\n",
    "    model.add(Dense(1, activation='sigmoid'))\n",
    "    # Compile model\n",
    "    model.compile(loss='binary_crossentropy', optimizer='adam', metrics=['accuracy'])\n",
    "    return model\n",
    "\n",
    "# create model\n",
    "model = KerasClassifier(build_fn=create_model, verbose=0)\n",
    "\n",
    "# define the grid search parameters\n",
    "# batch_size = [10, 20, 40, 60, 80, 100]\n",
    "# param_grid = dict(batch_size=batch_size, epochs=epochs)\n",
    "\n",
    "# define the grid search parameters\n",
    "param_grid = {'batch_size': [10, 20, 40, 60, 80, 100],\n",
    "              'epochs': [20]}\n",
    "\n",
    "# Create Grid Search\n",
    "grid = GridSearchCV(estimator=model, param_grid=param_grid, n_jobs=5)\n",
    "grid_result = grid.fit(X, Y)\n",
    "\n",
    "# Report Results\n",
    "print(f\"Best: {grid_result.best_score_} using {grid_result.best_params_}\")\n",
    "means = grid_result.cv_results_['mean_test_score']\n",
    "stds = grid_result.cv_results_['std_test_score']\n",
    "params = grid_result.cv_results_['params']\n",
    "for mean, stdev, param in zip(means, stds, params):\n",
    "    print(f\"Means: {mean}, Stdev: {stdev} with: {param}\") "
   ]
  },
  {
   "cell_type": "code",
   "execution_count": 17,
   "metadata": {},
   "outputs": [
    {
     "data": {
      "text/plain": [
       "numpy.ndarray"
      ]
     },
     "execution_count": 17,
     "metadata": {},
     "output_type": "execute_result"
    }
   ],
   "source": [
    "type(dataset)"
   ]
  },
  {
   "cell_type": "code",
   "execution_count": 18,
   "metadata": {},
   "outputs": [
    {
     "data": {
      "text/plain": [
       "array([[  6.   , 148.   ,  72.   , ...,  33.6  ,   0.627,  50.   ],\n",
       "       [  1.   ,  85.   ,  66.   , ...,  26.6  ,   0.351,  31.   ],\n",
       "       [  8.   , 183.   ,  64.   , ...,  23.3  ,   0.672,  32.   ],\n",
       "       ...,\n",
       "       [  5.   , 121.   ,  72.   , ...,  26.2  ,   0.245,  30.   ],\n",
       "       [  1.   , 126.   ,  60.   , ...,  30.1  ,   0.349,  47.   ],\n",
       "       [  1.   ,  93.   ,  70.   , ...,  30.4  ,   0.315,  23.   ]])"
      ]
     },
     "execution_count": 18,
     "metadata": {},
     "output_type": "execute_result"
    }
   ],
   "source": [
    "X"
   ]
  },
  {
   "cell_type": "markdown",
   "metadata": {
    "colab_type": "text",
    "id": "EKcuY6OiaLfz"
   },
   "source": [
    "## Optimizer\n",
    "\n",
    "Remember that there's a different optimizers [optimizers](https://keras.io/optimizers/). At some point, take some time to read up on them a little bit. \"adam\" usually gives the best results. The thing to know about choosing an optimizer is that different optimizers have different hyperparameters like learning rate, momentum, etc. So based on the optimizer you choose you might also have to tune the learning rate and momentum of those optimizers after that. "
   ]
  },
  {
   "cell_type": "code",
   "execution_count": 7,
   "metadata": {},
   "outputs": [],
   "source": [
    "from tensorflow.keras.callbacks import EarlyStopping\n",
    "\n",
    "stop = EarlyStopping(monitor='accuracy', min_delta=.01)"
   ]
  },
  {
   "cell_type": "code",
   "execution_count": 14,
   "metadata": {},
   "outputs": [
    {
     "name": "stdout",
     "output_type": "stream",
     "text": [
      "Best: 0.6459044218063354 using {'batch_size': 10, 'epochs': 99, 'optimizer': 'sgd'}\n",
      "Means: 0.5949495077133179, Stdev: 0.04201998474472663 with: {'batch_size': 10, 'epochs': 99, 'optimizer': 'adam'}\n",
      "Means: 0.6159409284591675, Stdev: 0.031528350552402384 with: {'batch_size': 10, 'epochs': 99, 'optimizer': 'nadam'}\n",
      "Means: 0.6459044218063354, Stdev: 0.043124013190560216 with: {'batch_size': 10, 'epochs': 99, 'optimizer': 'sgd'}\n",
      "Means: 0.5664289891719818, Stdev: 0.11508093388689607 with: {'batch_size': 10, 'epochs': 99, 'optimizer': 'adadelta'}\n",
      "Means: 0.43348612189292907, Stdev: 0.09463494887040724 with: {'batch_size': 10, 'epochs': 99, 'optimizer': 'adagrad'}\n"
     ]
    }
   ],
   "source": [
    "# Function to create model, required for KerasClassifier\n",
    "def create_model(optimizer='adam'):\n",
    "    # create model\n",
    "    model = Sequential()\n",
    "    model.add(Dense(12, input_dim=8, activation='relu'))\n",
    "    model.add(Dense(1, activation='sigmoid'))\n",
    "    # Compile model\n",
    "    model.compile(loss='binary_crossentropy', optimizer=optimizer, metrics=['accuracy'])\n",
    "    return model\n",
    "\n",
    "# create model\n",
    "model = KerasClassifier(build_fn=create_model, verbose=0)\n",
    "\n",
    "# define the grid search parameters\n",
    "# batch_size = [10, 20, 40, 60, 80, 100]\n",
    "# param_grid = dict(batch_size=batch_size, epochs=epochs)\n",
    "\n",
    "# define the grid search parameters\n",
    "param_grid = {'batch_size': [10], # Because the best one above was 10\n",
    "              'optimizer': ['adam', 'nadam', 'sgd', 'adadelta', 'adagrad'],\n",
    "              'epochs': [99]\n",
    "              }\n",
    "\n",
    "# Create Grid Search\n",
    "grid = GridSearchCV(estimator=model, param_grid=param_grid, n_jobs=1)\n",
    "grid_result = grid.fit(X, Y, callbacks=[stop])\n",
    "\n",
    "# Report Results\n",
    "print(f\"Best: {grid_result.best_score_} using {grid_result.best_params_}\")\n",
    "means = grid_result.cv_results_['mean_test_score']\n",
    "stds = grid_result.cv_results_['std_test_score']\n",
    "params = grid_result.cv_results_['params']\n",
    "for mean, stdev, param in zip(means, stds, params):\n",
    "    print(f\"Means: {mean}, Stdev: {stdev} with: {param}\") "
   ]
  },
  {
   "cell_type": "markdown",
   "metadata": {
    "colab_type": "text",
    "id": "DG3wq5iOaLig"
   },
   "source": [
    "## Learning Rate\n",
    "\n",
    "Remember that the Learning Rate is a hyperparameter that is specific to your gradient-descent based optimizer selection. A learning rate that is too high will cause divergent behavior, but a Learning Rate that is too low will fail to converge, again, you're looking for the sweet spot. I would start out tuning learning rates by orders of magnitude: [.001, .01, .1, .2, .3, .5] etc. I wouldn't go above .5, but you can try it and see what the behavior is like. \n",
    "\n",
    "Once you have narrowed it down, make the window even smaller and try it again. If after running the above specification your model reports that .1 is the best optimizer, then you should probably try things like [.05, .08, .1, .12, .15] to try and narrow it down. \n",
    "\n",
    "It can also be good to tune the number of epochs in combination with the learning rate since the number of iterations that you allow the learning rate to reach the minimum can determine if you have let it run long enough to converge to the minimum. "
   ]
  },
  {
   "cell_type": "markdown",
   "metadata": {
    "colab_type": "text",
    "id": "gNTBUWd1aLlA"
   },
   "source": [
    "## Momentum\n",
    "\n",
    "Momentum is a hyperparameter that is more commonly associated with Stochastic Gradient Descent. SGD is a common optimizer because it's what people understand and know, but I doubt it will get you the best results, you can try hyperparameter tuning its attributes and see if you can beat the performance from adam. Momentum is a property that decides the willingness of an optimizer to overshoot the minimum. Imagine a ball rolling down one side of a bowl and then up the opposite side a little bit before settling back to the bottom. The purpose of momentum is to try and escale local minima."
   ]
  },
  {
   "cell_type": "markdown",
   "metadata": {
    "colab_type": "text",
    "id": "xnEG-bCJaLnZ"
   },
   "source": [
    "## Activation Functions\n",
    "\n",
    "We've talked about this a little bit, typically you'l want to use ReLU for hidden layers and either Sigmoid, or Softmax for output layers of binary and multi-class classification implementations respectively, but try other activation functions and see if you can get any better results with sigmoid or tanh or something. There are a lot of activation functions that we haven't really talked about. Maybe you'll get good results with them. Maybe you won't. :) <https://keras.io/activations/>"
   ]
  },
  {
   "cell_type": "markdown",
   "metadata": {
    "colab_type": "text",
    "id": "oul9sPq-dU-h"
   },
   "source": [
    "## Network Weight Initialization\n",
    "\n",
    "You saw how big of an effect the way that we initialize our network's weights can have on our results. There are **a lot** of what are called initialization modes. I don't understand all of them, but they can have a big affect on your model's initial accuracy. Your model will get further with less epochs if you initialize it with weights that are well suited to the problem you're trying to solve.\n",
    "\n",
    "`init_mode = ['uniform', 'lecun_uniform', 'normal', 'zero', 'glorot_normal', 'glorot_uniform', 'he_normal', 'he_uniform']`"
   ]
  },
  {
   "cell_type": "markdown",
   "metadata": {
    "colab_type": "text",
    "id": "bqtEuxeQaLqE"
   },
   "source": [
    "## Dropout Regularization and the Weight Constraint\n",
    "\n",
    "the Dropout Regularization value is a percentage of neurons that you want to be randomly deactivated during training. The weight constraint is a second regularization parameter that works in tandem with dropout regularization. You should tune these two values at the same time. \n",
    "\n",
    "Using dropout on visible vs hidden layers might have a different effect. Using dropout on hidden layers might not have any effect while using dropout on hidden layers might have a substantial effect. You don't necessarily need to turn use dropout unless you see that your model has overfitting and generalizability problems."
   ]
  },
  {
   "cell_type": "markdown",
   "metadata": {
    "colab_type": "text",
    "id": "P2c5Cv6oaLtO"
   },
   "source": [
    "## Neurons in Hidden Layer \n",
    "\n",
    "Remember that when we only had a single perceptron our model was only able to fit to linearly separable data, but as we have added layers and nodes to those layers our network has become a powerhouse of fitting nonlinearity in data. The larger the network and the more nodes generally the stronger the network's capacity to fit nonlinear patterns in data. The more nodes and layers the longer it will take to train a network, and higher the probability of overfitting. The larger your network gets the more you'll need dropout regularization or other regularization techniques to keep it in check. \n",
    "\n",
    "Typically depth (more layers) is more important than width (more nodes) for neural networks. This is part of why Deep Learning is so highly touted. Certain deep learning architectures have truly been huge breakthroughs for certain machine learning tasks. \n",
    "\n",
    "You might borrow ideas from other network architectures. For example if I was doing image recognition and I wasn't taking cues from state of the art architectures like resnet, alexnet, googlenet, etc. Then I'm probably going to have to do a lot more experimentation on my own before I find something that works.\n",
    "\n",
    "There are some heuristics, but I am highly skeptical of them. I think you're better off experimenting on your own and forming your own intuition for these kinds of problems. \n",
    "\n",
    "- https://machinelearningmastery.com/how-to-configure-the-number-of-layers-and-nodes-in-a-neural-network/"
   ]
  },
  {
   "cell_type": "markdown",
   "metadata": {},
   "source": [
    "## Challenge\n",
    "You will be expected to tune several hyperparameters in today's module project. "
   ]
  },
  {
   "cell_type": "markdown",
   "metadata": {},
   "source": [
    "# Experiment Tracking Framework (Learn)\n",
    "<a id=\"p2\"></a>"
   ]
  },
  {
   "cell_type": "markdown",
   "metadata": {},
   "source": [
    "## Overview\n",
    "\n",
    "You will notice quickly that managing the results of all the experiments you are running becomes challenging. Which set of parameters did the best? Are my results today different than my results yesterday? Although we use Ipython Notebooks to work, the format is not well suited to logging experimental results. Enter experiment tracking frameworks like [Comet.ml](https://comet.ml) and [Weights and Biases](https://wandb.ai/).\n",
    "\n",
    "Those tools will help you track your experiments, store the results, and the code associated with those experiments. Experimental results can also be readily visualized to see changes in performance across any metric you care about. Data is sent to the tool as each epoch is completed, so you can also see if your model is converging. Let's check out Weights & Biases today. "
   ]
  },
  {
   "cell_type": "markdown",
   "metadata": {},
   "source": [
    "## Follow Along\n",
    "\n",
    "Make sure you login into `wandb` in the terminal before running the next cell. "
   ]
  },
  {
   "cell_type": "code",
   "execution_count": 4,
   "metadata": {},
   "outputs": [],
   "source": [
    "import wandb\n",
    "from wandb.keras import WandbCallback"
   ]
  },
  {
   "cell_type": "code",
   "execution_count": 7,
   "metadata": {
    "colab": {
     "base_uri": "https://localhost:8080/",
     "height": 1750
    },
    "colab_type": "code",
    "id": "GMXVfmzXp1Oo",
    "outputId": "b05e251e-508f-46e6-865b-f869ae2a5dc4"
   },
   "outputs": [
    {
     "data": {
      "text/html": [
       "\n",
       "                Logging results to <a href=\"https://wandb.com\" target=\"_blank\">Weights & Biases</a> <a href=\"https://docs.wandb.com/integrations/jupyter.html\" target=\"_blank\">(Documentation)</a>.<br/>\n",
       "                Project page: <a href=\"https://app.wandb.ai/ds8/ds11_inclass\" target=\"_blank\">https://app.wandb.ai/ds8/ds11_inclass</a><br/>\n",
       "                Run page: <a href=\"https://app.wandb.ai/ds8/ds11_inclass/runs/cw56w4c5\" target=\"_blank\">https://app.wandb.ai/ds8/ds11_inclass/runs/cw56w4c5</a><br/>\n",
       "            "
      ],
      "text/plain": [
       "<IPython.core.display.HTML object>"
      ]
     },
     "metadata": {},
     "output_type": "display_data"
    },
    {
     "name": "stderr",
     "output_type": "stream",
     "text": [
      "Failed to query for notebook name, you can set it manually with the WANDB_NOTEBOOK_NAME environment variable\n",
      "wandb: Wandb version 0.8.29 is available!  To upgrade, please run:\n",
      "wandb:  $ pip install wandb --upgrade\n"
     ]
    },
    {
     "name": "stdout",
     "output_type": "stream",
     "text": [
      "Train on 270 samples, validate on 134 samples\n",
      "Epoch 1/50\n",
      "270/270 [==============================] - 0s 1ms/sample - loss: 108.5753 - mse: 108.5753 - mae: 7.9908 - val_loss: 123.3648 - val_mse: 123.3648 - val_mae: 7.5919\n",
      "Epoch 2/50\n",
      "270/270 [==============================] - 0s 240us/sample - loss: 63.7331 - mse: 63.7330 - mae: 5.9117 - val_loss: 96.3333 - val_mse: 96.3333 - val_mae: 6.2341\n",
      "Epoch 3/50\n",
      "270/270 [==============================] - 0s 178us/sample - loss: 52.6405 - mse: 52.6405 - mae: 5.2151 - val_loss: 105.5040 - val_mse: 105.5040 - val_mae: 6.8049\n",
      "Epoch 4/50\n",
      "270/270 [==============================] - 0s 149us/sample - loss: 56.6277 - mse: 56.6277 - mae: 5.6673 - val_loss: 109.6712 - val_mse: 109.6712 - val_mae: 7.0928\n",
      "Epoch 5/50\n",
      "270/270 [==============================] - 0s 204us/sample - loss: 51.0827 - mse: 51.0827 - mae: 5.3084 - val_loss: 78.7372 - val_mse: 78.7372 - val_mae: 5.5528\n",
      "Epoch 6/50\n",
      "270/270 [==============================] - 0s 207us/sample - loss: 44.4719 - mse: 44.4719 - mae: 4.7122 - val_loss: 71.4405 - val_mse: 71.4405 - val_mae: 5.5259\n",
      "Epoch 7/50\n",
      "270/270 [==============================] - 0s 161us/sample - loss: 43.6871 - mse: 43.6871 - mae: 4.6213 - val_loss: 80.0935 - val_mse: 80.0935 - val_mae: 5.5883\n",
      "Epoch 8/50\n",
      "270/270 [==============================] - 0s 207us/sample - loss: 48.6107 - mse: 48.6107 - mae: 5.0159 - val_loss: 66.6172 - val_mse: 66.6172 - val_mae: 5.2699\n",
      "Epoch 9/50\n",
      "270/270 [==============================] - 0s 155us/sample - loss: 47.6443 - mse: 47.6444 - mae: 5.0366 - val_loss: 67.7631 - val_mse: 67.7631 - val_mae: 5.2892\n",
      "Epoch 10/50\n",
      "270/270 [==============================] - 0s 222us/sample - loss: 40.1512 - mse: 40.1512 - mae: 4.2794 - val_loss: 61.2391 - val_mse: 61.2391 - val_mae: 5.4569\n",
      "Epoch 11/50\n",
      "270/270 [==============================] - 0s 161us/sample - loss: 40.7986 - mse: 40.7986 - mae: 4.4193 - val_loss: 62.7936 - val_mse: 62.7936 - val_mae: 5.1244\n",
      "Epoch 12/50\n",
      "270/270 [==============================] - 0s 207us/sample - loss: 37.7174 - mse: 37.7174 - mae: 4.3996 - val_loss: 57.5704 - val_mse: 57.5704 - val_mae: 5.1532\n",
      "Epoch 13/50\n",
      "270/270 [==============================] - 0s 172us/sample - loss: 37.0382 - mse: 37.0382 - mae: 4.3399 - val_loss: 57.6044 - val_mse: 57.6044 - val_mae: 5.3717\n",
      "Epoch 14/50\n",
      "270/270 [==============================] - 0s 176us/sample - loss: 39.6096 - mse: 39.6096 - mae: 4.4543 - val_loss: 67.3830 - val_mse: 67.3830 - val_mae: 5.2729\n",
      "Epoch 15/50\n",
      "270/270 [==============================] - 0s 164us/sample - loss: 34.7802 - mse: 34.7802 - mae: 4.2735 - val_loss: 66.7631 - val_mse: 66.7631 - val_mae: 5.0941\n",
      "Epoch 16/50\n",
      "270/270 [==============================] - 0s 150us/sample - loss: 36.2433 - mse: 36.2433 - mae: 4.3114 - val_loss: 57.8080 - val_mse: 57.8080 - val_mae: 4.7715\n",
      "Epoch 17/50\n",
      "270/270 [==============================] - 0s 208us/sample - loss: 37.4282 - mse: 37.4282 - mae: 4.5037 - val_loss: 52.4883 - val_mse: 52.4883 - val_mae: 5.1686\n",
      "Epoch 18/50\n",
      "270/270 [==============================] - 0s 150us/sample - loss: 34.9749 - mse: 34.9749 - mae: 4.1477 - val_loss: 56.8804 - val_mse: 56.8804 - val_mae: 4.6827\n",
      "Epoch 19/50\n",
      "270/270 [==============================] - 0s 149us/sample - loss: 32.2752 - mse: 32.2751 - mae: 4.2539 - val_loss: 58.0205 - val_mse: 58.0205 - val_mae: 4.7507\n",
      "Epoch 20/50\n",
      "270/270 [==============================] - 0s 153us/sample - loss: 30.3686 - mse: 30.3686 - mae: 3.9114 - val_loss: 60.7820 - val_mse: 60.7820 - val_mae: 5.6999\n",
      "Epoch 21/50\n",
      "270/270 [==============================] - 0s 211us/sample - loss: 33.1468 - mse: 33.1468 - mae: 4.1288 - val_loss: 50.2854 - val_mse: 50.2854 - val_mae: 4.8673\n",
      "Epoch 22/50\n",
      "270/270 [==============================] - 0s 180us/sample - loss: 40.1359 - mse: 40.1359 - mae: 4.7470 - val_loss: 74.2591 - val_mse: 74.2590 - val_mae: 5.5422\n",
      "Epoch 23/50\n",
      "270/270 [==============================] - 0s 173us/sample - loss: 32.3824 - mse: 32.3824 - mae: 4.1957 - val_loss: 59.2081 - val_mse: 59.2081 - val_mae: 4.8145\n",
      "Epoch 24/50\n",
      "270/270 [==============================] - 0s 165us/sample - loss: 34.4125 - mse: 34.4125 - mae: 4.3207 - val_loss: 53.2382 - val_mse: 53.2382 - val_mae: 5.3841\n",
      "Epoch 25/50\n",
      "270/270 [==============================] - 0s 182us/sample - loss: 30.1462 - mse: 30.1462 - mae: 4.0905 - val_loss: 59.1229 - val_mse: 59.1229 - val_mae: 4.7936\n",
      "Epoch 26/50\n",
      "270/270 [==============================] - 0s 159us/sample - loss: 27.8724 - mse: 27.8724 - mae: 3.8951 - val_loss: 51.1220 - val_mse: 51.1220 - val_mae: 4.4716\n",
      "Epoch 27/50\n",
      "270/270 [==============================] - 0s 210us/sample - loss: 29.0258 - mse: 29.0258 - mae: 3.9866 - val_loss: 48.5694 - val_mse: 48.5694 - val_mae: 4.6726\n",
      "Epoch 28/50\n",
      "270/270 [==============================] - 0s 156us/sample - loss: 27.5529 - mse: 27.5529 - mae: 3.8934 - val_loss: 51.3087 - val_mse: 51.3087 - val_mae: 4.5003\n",
      "Epoch 29/50\n",
      "270/270 [==============================] - 0s 214us/sample - loss: 27.1081 - mse: 27.1082 - mae: 3.7330 - val_loss: 48.4698 - val_mse: 48.4698 - val_mae: 4.9896\n",
      "Epoch 30/50\n",
      "270/270 [==============================] - 0s 160us/sample - loss: 34.0856 - mse: 34.0856 - mae: 4.5648 - val_loss: 51.8094 - val_mse: 51.8094 - val_mae: 4.4581\n",
      "Epoch 31/50\n",
      "270/270 [==============================] - 0s 204us/sample - loss: 24.4493 - mse: 24.4493 - mae: 3.5728 - val_loss: 46.2483 - val_mse: 46.2483 - val_mae: 4.7254\n",
      "Epoch 32/50\n",
      "270/270 [==============================] - 0s 154us/sample - loss: 25.8857 - mse: 25.8857 - mae: 3.7669 - val_loss: 53.4866 - val_mse: 53.4866 - val_mae: 5.9634\n",
      "Epoch 33/50\n",
      "270/270 [==============================] - 0s 154us/sample - loss: 25.6165 - mse: 25.6165 - mae: 3.7255 - val_loss: 47.6963 - val_mse: 47.6962 - val_mae: 4.5236\n",
      "Epoch 34/50\n",
      "270/270 [==============================] - 0s 208us/sample - loss: 29.6490 - mse: 29.6490 - mae: 4.0264 - val_loss: 44.8691 - val_mse: 44.8691 - val_mae: 5.0151\n",
      "Epoch 35/50\n",
      "270/270 [==============================] - 0s 156us/sample - loss: 24.8421 - mse: 24.8421 - mae: 3.6795 - val_loss: 51.1705 - val_mse: 51.1705 - val_mae: 5.4254\n",
      "Epoch 36/50\n",
      "270/270 [==============================] - 0s 160us/sample - loss: 27.8734 - mse: 27.8734 - mae: 3.9747 - val_loss: 47.9126 - val_mse: 47.9126 - val_mae: 4.3241\n",
      "Epoch 37/50\n",
      "270/270 [==============================] - 0s 227us/sample - loss: 29.4594 - mse: 29.4594 - mae: 4.1528 - val_loss: 44.6003 - val_mse: 44.6003 - val_mae: 4.4086\n",
      "Epoch 38/50\n",
      "270/270 [==============================] - 0s 159us/sample - loss: 23.0023 - mse: 23.0023 - mae: 3.4599 - val_loss: 47.5020 - val_mse: 47.5020 - val_mae: 4.5255\n",
      "Epoch 39/50\n",
      "270/270 [==============================] - 0s 148us/sample - loss: 24.2202 - mse: 24.2202 - mae: 3.6235 - val_loss: 65.6842 - val_mse: 65.6842 - val_mae: 5.1144\n",
      "Epoch 40/50\n",
      "270/270 [==============================] - 0s 151us/sample - loss: 25.9631 - mse: 25.9631 - mae: 3.8395 - val_loss: 51.7275 - val_mse: 51.7275 - val_mae: 4.6443\n",
      "Epoch 41/50\n",
      "270/270 [==============================] - 0s 159us/sample - loss: 25.2025 - mse: 25.2025 - mae: 3.6483 - val_loss: 51.7702 - val_mse: 51.7702 - val_mae: 4.5357\n",
      "Epoch 42/50\n",
      "270/270 [==============================] - 0s 196us/sample - loss: 21.9209 - mse: 21.9209 - mae: 3.4596 - val_loss: 45.7297 - val_mse: 45.7297 - val_mae: 4.8811\n",
      "Epoch 43/50\n",
      "270/270 [==============================] - 0s 181us/sample - loss: 21.5818 - mse: 21.5818 - mae: 3.4641 - val_loss: 46.2303 - val_mse: 46.2303 - val_mae: 5.4595\n",
      "Epoch 44/50\n",
      "270/270 [==============================] - 0s 235us/sample - loss: 21.6592 - mse: 21.6592 - mae: 3.3697 - val_loss: 44.0614 - val_mse: 44.0614 - val_mae: 4.1887\n",
      "Epoch 45/50\n",
      "270/270 [==============================] - 0s 215us/sample - loss: 22.9574 - mse: 22.9574 - mae: 3.6061 - val_loss: 42.5733 - val_mse: 42.5733 - val_mae: 4.4938\n",
      "Epoch 46/50\n",
      "270/270 [==============================] - 0s 180us/sample - loss: 24.4213 - mse: 24.4213 - mae: 3.7591 - val_loss: 45.1394 - val_mse: 45.1394 - val_mae: 4.6542\n",
      "Epoch 47/50\n",
      "270/270 [==============================] - 0s 262us/sample - loss: 26.3385 - mse: 26.3385 - mae: 3.7820 - val_loss: 41.4704 - val_mse: 41.4704 - val_mae: 4.3773\n",
      "Epoch 48/50\n",
      "270/270 [==============================] - 0s 197us/sample - loss: 23.8720 - mse: 23.8720 - mae: 3.4864 - val_loss: 46.2203 - val_mse: 46.2203 - val_mae: 4.7858\n",
      "Epoch 49/50\n",
      "270/270 [==============================] - 0s 217us/sample - loss: 27.3893 - mse: 27.3893 - mae: 4.0371 - val_loss: 51.2233 - val_mse: 51.2233 - val_mae: 5.6658\n",
      "Epoch 50/50\n",
      "270/270 [==============================] - 0s 206us/sample - loss: 26.3880 - mse: 26.3880 - mae: 3.7340 - val_loss: 45.2102 - val_mse: 45.2102 - val_mae: 5.0939\n"
     ]
    },
    {
     "data": {
      "text/plain": [
       "<tensorflow.python.keras.callbacks.History at 0x7fa2fd1b93d0>"
      ]
     },
     "execution_count": 7,
     "metadata": {},
     "output_type": "execute_result"
    }
   ],
   "source": [
    "#Initializes and Experiment\n",
    "wandb.init(project=wandb_project, entity=wandb_group)\n",
    "\n",
    "# Important Hyperparameters\n",
    "X =  x_train\n",
    "y =  y_train\n",
    "\n",
    "inputs = X.shape[1]\n",
    "wandb.config.epochs = 50\n",
    "wandb.config.batch_size = 10\n",
    "\n",
    "# Create Model\n",
    "model = Sequential()\n",
    "model.add(Dense(64, activation='relu', input_shape=(inputs,)))\n",
    "model.add(Dense(64, activation='relu'))\n",
    "model.add(Dense(64, activation='relu'))\n",
    "model.add(Dense(1))\n",
    "# Compile Model\n",
    "model.compile(optimizer='adam', loss='mse', metrics=['mse', 'mae'])\n",
    "\n",
    "# Fit Model\n",
    "model.fit(X, y, \n",
    "          validation_split=0.33, \n",
    "          epochs=wandb.config.epochs, \n",
    "          batch_size=wandb.config.batch_size, \n",
    "          callbacks=[WandbCallback()]\n",
    "         )"
   ]
  },
  {
   "cell_type": "markdown",
   "metadata": {},
   "source": [
    "## Challenge\n",
    "\n",
    "You will be expected to use Weights & Biases to try to tune your model during your module assignment today. "
   ]
  },
  {
   "cell_type": "markdown",
   "metadata": {},
   "source": [
    "## Challenge\n",
    "\n",
    "Try to apply RandomSearchCV to your module project today. "
   ]
  },
  {
   "cell_type": "markdown",
   "metadata": {},
   "source": [
    "# Review\n",
    "* <a href=\"#p1\">Part 1</a>: Describe the major hyperparemeters to tune\n",
    "    - Activation Functions\n",
    "    - Optimizer\n",
    "    - Number of Layers\n",
    "    - Number of Neurons\n",
    "    - Batch Size\n",
    "    - Dropout Regulaization\n",
    "    - Learning Rate\n",
    "    - Number of Epochs\n",
    "    - and many more\n",
    "* <a href=\"#p2\">Part 2</a>: Implement an experiment tracking framework\n",
    "    - Weights & Biases\n",
    "    - Comet.ml\n",
    "    - By Hand / GridSearch\n",
    "* <a href=\"#p3\">Optional</a>: Discuss emerging hyperparameter tuning strategies\n",
    "    - Bayesian Optimization\n",
    "    - Hyperopt\n",
    "    - Genetic Evolution"
   ]
  },
  {
   "cell_type": "markdown",
   "metadata": {},
   "source": [
    "# Sources"
   ]
  },
  {
   "cell_type": "markdown",
   "metadata": {},
   "source": [
    "## Additional Reading\n",
    "- https://machinelearningmastery.com/grid-search-hyperparameters-deep-learning-models-python-keras/\n",
    "- https://blog.floydhub.com/guide-to-hyperparameters-search-for-deep-learning-models/\n",
    "- https://machinelearningmastery.com/dropout-regularization-deep-learning-models-keras/\n",
    "- https://machinelearningmastery.com/introduction-to-weight-constraints-to-reduce-generalization-error-in-deep-learning/\n",
    "- https://machinelearningmastery.com/how-to-configure-the-number-of-layers-and-nodes-in-a-neural-network/"
   ]
  }
 ],
 "metadata": {
  "kernelspec": {
   "display_name": "U4-S2-NNF (Python3)",
   "language": "python",
   "name": "u4-s2-nnf"
  },
  "language_info": {
   "codemirror_mode": {
    "name": "ipython",
    "version": 3
   },
   "file_extension": ".py",
   "mimetype": "text/x-python",
   "name": "python",
   "nbconvert_exporter": "python",
   "pygments_lexer": "ipython3",
   "version": "3.7.0"
  }
 },
 "nbformat": 4,
 "nbformat_minor": 4
}
